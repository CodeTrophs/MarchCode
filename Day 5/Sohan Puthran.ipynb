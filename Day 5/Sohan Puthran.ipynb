{
 "cells": [
  {
   "cell_type": "markdown",
   "id": "aerial-motion",
   "metadata": {},
   "source": [
    "### \"Write a program to print all the natural numbers between n and m (n and m are user input) ( n > 0 , m > 0 )\""
   ]
  },
  {
   "cell_type": "code",
   "execution_count": 3,
   "id": "expected-small",
   "metadata": {},
   "outputs": [
    {
     "name": "stdout",
     "output_type": "stream",
     "text": [
      "Enter the values for n and m respectively separated by a space\n",
      "1 10\n",
      "All natural numbers between 1 and 10 are\n",
      "1\n",
      "2\n",
      "3\n",
      "4\n",
      "5\n",
      "6\n",
      "7\n",
      "8\n",
      "9\n",
      "10\n"
     ]
    }
   ],
   "source": [
    "n, m = input(\"Enter the values for n and m respectively separated by a space\\n\").split()\n",
    "print(\"All natural numbers between \" + n + \" and \" + m + \" are\")\n",
    "for num in range(int(n), int(m) + 1):\n",
    "    print(num)"
   ]
  }
 ],
 "metadata": {
  "kernelspec": {
   "display_name": "Python 3",
   "language": "python",
   "name": "python3"
  },
  "language_info": {
   "codemirror_mode": {
    "name": "ipython",
    "version": 3
   },
   "file_extension": ".py",
   "mimetype": "text/x-python",
   "name": "python",
   "nbconvert_exporter": "python",
   "pygments_lexer": "ipython3",
   "version": "3.8.5"
  }
 },
 "nbformat": 4,
 "nbformat_minor": 5
}
