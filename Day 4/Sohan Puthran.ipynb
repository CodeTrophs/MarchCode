{
 "cells": [
  {
   "cell_type": "markdown",
   "id": "helpful-helicopter",
   "metadata": {},
   "source": [
    "### \"Write a program to check the ascii code of a given number character\""
   ]
  },
  {
   "cell_type": "code",
   "execution_count": 2,
   "id": "gross-somerset",
   "metadata": {},
   "outputs": [
    {
     "name": "stdout",
     "output_type": "stream",
     "text": [
      "Enter the character\n",
      "A\n",
      "65\n"
     ]
    }
   ],
   "source": [
    "character = input(\"Enter the character\\n\")\n",
    "print(ord(character))"
   ]
  }
 ],
 "metadata": {
  "kernelspec": {
   "display_name": "Python 3",
   "language": "python",
   "name": "python3"
  },
  "language_info": {
   "codemirror_mode": {
    "name": "ipython",
    "version": 3
   },
   "file_extension": ".py",
   "mimetype": "text/x-python",
   "name": "python",
   "nbconvert_exporter": "python",
   "pygments_lexer": "ipython3",
   "version": "3.8.5"
  }
 },
 "nbformat": 4,
 "nbformat_minor": 5
}
