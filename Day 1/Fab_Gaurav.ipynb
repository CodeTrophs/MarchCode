{
  "nbformat": 4,
  "nbformat_minor": 0,
  "metadata": {
    "colab": {
      "name": "Fab-Gaurav.ipynb",
      "provenance": []
    },
    "kernelspec": {
      "name": "python3",
      "display_name": "Python 3"
    }
  },
  "cells": [
    {
      "cell_type": "code",
      "metadata": {
        "colab": {
          "base_uri": "https://localhost:8080/"
        },
        "id": "vtjIlNJHDtNR",
        "outputId": "b33fbc8f-4963-4dd7-fedd-b8d9c600ad5b"
      },
      "source": [
        "num=int(input(\"Enter the number : \"))\r\n",
        "if (num % 2) == 0 :\r\n",
        "  print(num, \"is an even number\")\r\n",
        "else :\r\n",
        "  print(num, \"is an odd number\")"
      ],
      "execution_count": 9,
      "outputs": [
        {
          "output_type": "stream",
          "text": [
            "Enter the number : 54\n",
            "54 is an even number\n"
          ],
          "name": "stdout"
        }
      ]
    }
  ]
}