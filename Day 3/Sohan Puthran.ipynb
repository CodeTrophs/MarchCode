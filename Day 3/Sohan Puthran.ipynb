{
 "cells": [
  {
   "cell_type": "markdown",
   "id": "plain-christopher",
   "metadata": {},
   "source": [
    "### \"Write a program to find out the total number of days in a given month\""
   ]
  },
  {
   "cell_type": "code",
   "execution_count": 2,
   "id": "ranking-ribbon",
   "metadata": {},
   "outputs": [
    {
     "name": "stdout",
     "output_type": "stream",
     "text": [
      "Enter the month\n",
      "July\n",
      "Total number of days in july is 31 days\n"
     ]
    }
   ],
   "source": [
    "month = input(\"Enter the month\\n\").lower()\n",
    "\n",
    "if month == 'february':\n",
    "    print(\"Total number of days in \" + month + \" is 28/29 days\")\n",
    "elif month in [\"april\", \"june\", \"september\", \"november\"]:\n",
    "    print(\"Total number of days in \" + month + \" is 30 days\")\n",
    "elif month in [\"january\", \"march\", \"may\", \"july\", \"august\", \"october\", \"december\"]:\n",
    "    print(\"Total number of days in \" + month + \" is 31 days\")\n",
    "else:\n",
    "    print(\"Enter the month correctly\")"
   ]
  }
 ],
 "metadata": {
  "kernelspec": {
   "display_name": "Python 3",
   "language": "python",
   "name": "python3"
  },
  "language_info": {
   "codemirror_mode": {
    "name": "ipython",
    "version": 3
   },
   "file_extension": ".py",
   "mimetype": "text/x-python",
   "name": "python",
   "nbconvert_exporter": "python",
   "pygments_lexer": "ipython3",
   "version": "3.8.5"
  }
 },
 "nbformat": 4,
 "nbformat_minor": 5
}
