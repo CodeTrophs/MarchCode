{
 "cells": [
  {
   "cell_type": "code",
   "execution_count": 1,
   "metadata": {},
   "outputs": [
    {
     "name": "stdout",
     "output_type": "stream",
     "text": [
      "enter the lower limit and upper limit: 0 15\n",
      "sum of all the numbers between lower and upper limit is 105\n",
      "sum of all the even numbers between lower and upper limit is 56\n"
     ]
    }
   ],
   "source": [
    "# Day 6\n",
    "\n",
    "n,m=input(\"enter the lower limit and upper limit: \").split()\n",
    "sum=0\n",
    "even_sum=0\n",
    "for i in range(int(n),int(m)):\n",
    "    sum+=i\n",
    "    if(i%2==0):\n",
    "        even_sum+=i\n",
    "        \n",
    "print(\"sum of all the numbers between lower and upper limit is\",sum)\n",
    "print(\"sum of all the even numbers between lower and upper limit is\",even_sum)"
   ]
  },
  {
   "cell_type": "code",
   "execution_count": null,
   "metadata": {},
   "outputs": [],
   "source": []
  }
 ],
 "metadata": {
  "kernelspec": {
   "display_name": "Python 3",
   "language": "python",
   "name": "python3"
  },
  "language_info": {
   "codemirror_mode": {
    "name": "ipython",
    "version": 3
   },
   "file_extension": ".py",
   "mimetype": "text/x-python",
   "name": "python",
   "nbconvert_exporter": "python",
   "pygments_lexer": "ipython3",
   "version": "3.8.5"
  }
 },
 "nbformat": 4,
 "nbformat_minor": 4
}
