{
 "cells": [
  {
   "cell_type": "markdown",
   "id": "unavailable-election",
   "metadata": {},
   "source": [
    "### Write a program to print the sum of all the numbers and also the sum of all the even numbers between (n & m)\""
   ]
  },
  {
   "cell_type": "code",
   "execution_count": 1,
   "id": "fresh-mongolia",
   "metadata": {},
   "outputs": [
    {
     "name": "stdout",
     "output_type": "stream",
     "text": [
      "Enter the values for n and m respectively separated by a space\n",
      "1 10\n",
      "Total sum of even numbers between 1 and 10 is 55\n",
      "Sum of even numbers between 1 and 10 is 30\n"
     ]
    }
   ],
   "source": [
    "n, m = input(\"Enter the values for n and m respectively separated by a space\\n\").split()\n",
    "sum_ = 0\n",
    "sum_even = 0\n",
    "for num in range(int(n), int(m) + 1):\n",
    "    sum_ += num\n",
    "    if num % 2 == 0: \n",
    "        sum_even += num\n",
    "print(\"Total sum of even numbers between \" + n + \" and \" + m + ' is', sum_)\n",
    "print(\"Sum of even numbers between \" + n + \" and \" + m + ' is', sum_even)"
   ]
  }
 ],
 "metadata": {
  "kernelspec": {
   "display_name": "Python 3",
   "language": "python",
   "name": "python3"
  },
  "language_info": {
   "codemirror_mode": {
    "name": "ipython",
    "version": 3
   },
   "file_extension": ".py",
   "mimetype": "text/x-python",
   "name": "python",
   "nbconvert_exporter": "python",
   "pygments_lexer": "ipython3",
   "version": "3.8.5"
  }
 },
 "nbformat": 4,
 "nbformat_minor": 5
}
