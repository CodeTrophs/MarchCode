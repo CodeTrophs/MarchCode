{
 "cells": [
  {
   "cell_type": "markdown",
   "id": "specific-quality",
   "metadata": {},
   "source": [
    "### WRITE A PROGRAM TO CHECK WHEATHER A NUMBER IS DIVISBLE BY BOTH 5 & 11"
   ]
  },
  {
   "cell_type": "code",
   "execution_count": 1,
   "id": "brazilian-authority",
   "metadata": {},
   "outputs": [
    {
     "name": "stdout",
     "output_type": "stream",
     "text": [
      "Enter the number\n",
      "55\n",
      "The number is divisible by both 5 and 11\n"
     ]
    }
   ],
   "source": [
    "number = int(input(\"Enter the number\\n\"))\n",
    "if number % 5 == 0 and number % 11 == 0:\n",
    "    print(\"The number is divisible by both 5 and 11\")\n",
    "else:\n",
    "    print(\"The number is not divisible by both 5 and 11\")"
   ]
  }
 ],
 "metadata": {
  "kernelspec": {
   "display_name": "Python 3",
   "language": "python",
   "name": "python3"
  },
  "language_info": {
   "codemirror_mode": {
    "name": "ipython",
    "version": 3
   },
   "file_extension": ".py",
   "mimetype": "text/x-python",
   "name": "python",
   "nbconvert_exporter": "python",
   "pygments_lexer": "ipython3",
   "version": "3.8.5"
  }
 },
 "nbformat": 4,
 "nbformat_minor": 5
}
